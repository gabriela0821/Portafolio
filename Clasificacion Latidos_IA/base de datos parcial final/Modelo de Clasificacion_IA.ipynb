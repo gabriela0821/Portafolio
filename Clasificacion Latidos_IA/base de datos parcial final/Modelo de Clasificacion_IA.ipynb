{
 "cells": [
  {
   "cell_type": "markdown",
   "id": "231c4bb2",
   "metadata": {
    "id": "231c4bb2"
   },
   "source": [
    "# PARCIAL DE IA\n",
    "Estudiantes: Gabriela Lara y Camilo Gomez"
   ]
  },
  {
   "cell_type": "markdown",
   "id": "85BVGiMSalDz",
   "metadata": {
    "id": "85BVGiMSalDz"
   },
   "source": [
    "Lo primero que se realiza es la instalacion de la libreria wfdb, la cual nos permitira procesar las señales de los electrocardiogramas suministrados por el profesor en una base de datos."
   ]
  },
  {
   "cell_type": "code",
   "execution_count": 1,
   "id": "4c94614b",
   "metadata": {
    "id": "4c94614b",
    "outputId": "00525045-93b8-49de-e09a-d192765df01a"
   },
   "outputs": [
    {
     "name": "stdout",
     "output_type": "stream",
     "text": [
      "Requirement already satisfied: wfdb in c:\\programdata\\anaconda3\\lib\\site-packages (4.0.0)\n",
      "Requirement already satisfied: pandas<2.0.0,>=1.0.0 in c:\\programdata\\anaconda3\\lib\\site-packages (from wfdb) (1.3.4)\n",
      "Requirement already satisfied: matplotlib<4.0.0,>=3.2.2 in c:\\programdata\\anaconda3\\lib\\site-packages (from wfdb) (3.4.3)\n",
      "Requirement already satisfied: numpy<2.0.0,>=1.10.1 in c:\\programdata\\anaconda3\\lib\\site-packages (from wfdb) (1.20.3)\n",
      "Requirement already satisfied: SoundFile<0.12.0,>=0.10.0 in c:\\programdata\\anaconda3\\lib\\site-packages (from wfdb) (0.11.0)\n",
      "Requirement already satisfied: requests<3.0.0,>=2.8.1 in c:\\programdata\\anaconda3\\lib\\site-packages (from wfdb) (2.26.0)\n",
      "Requirement already satisfied: scipy<2.0.0,>=1.0.0 in c:\\programdata\\anaconda3\\lib\\site-packages (from wfdb) (1.7.1)\n",
      "Requirement already satisfied: kiwisolver>=1.0.1 in c:\\programdata\\anaconda3\\lib\\site-packages (from matplotlib<4.0.0,>=3.2.2->wfdb) (1.3.1)\n",
      "Requirement already satisfied: python-dateutil>=2.7 in c:\\programdata\\anaconda3\\lib\\site-packages (from matplotlib<4.0.0,>=3.2.2->wfdb) (2.8.2)\n",
      "Requirement already satisfied: pillow>=6.2.0 in c:\\programdata\\anaconda3\\lib\\site-packages (from matplotlib<4.0.0,>=3.2.2->wfdb) (8.4.0)\n",
      "Requirement already satisfied: pyparsing>=2.2.1 in c:\\programdata\\anaconda3\\lib\\site-packages (from matplotlib<4.0.0,>=3.2.2->wfdb) (3.0.4)\n",
      "Requirement already satisfied: cycler>=0.10 in c:\\programdata\\anaconda3\\lib\\site-packages (from matplotlib<4.0.0,>=3.2.2->wfdb) (0.10.0)\n",
      "Requirement already satisfied: six in c:\\programdata\\anaconda3\\lib\\site-packages (from cycler>=0.10->matplotlib<4.0.0,>=3.2.2->wfdb) (1.16.0)\n",
      "Requirement already satisfied: pytz>=2017.3 in c:\\programdata\\anaconda3\\lib\\site-packages (from pandas<2.0.0,>=1.0.0->wfdb) (2021.3)\n",
      "Requirement already satisfied: charset-normalizer~=2.0.0 in c:\\programdata\\anaconda3\\lib\\site-packages (from requests<3.0.0,>=2.8.1->wfdb) (2.0.4)\n",
      "Requirement already satisfied: certifi>=2017.4.17 in c:\\programdata\\anaconda3\\lib\\site-packages (from requests<3.0.0,>=2.8.1->wfdb) (2021.10.8)\n",
      "Requirement already satisfied: urllib3<1.27,>=1.21.1 in c:\\programdata\\anaconda3\\lib\\site-packages (from requests<3.0.0,>=2.8.1->wfdb) (1.26.7)\n",
      "Requirement already satisfied: idna<4,>=2.5 in c:\\programdata\\anaconda3\\lib\\site-packages (from requests<3.0.0,>=2.8.1->wfdb) (3.2)\n",
      "Requirement already satisfied: cffi>=1.0 in c:\\programdata\\anaconda3\\lib\\site-packages (from SoundFile<0.12.0,>=0.10.0->wfdb) (1.14.6)\n",
      "Requirement already satisfied: pycparser in c:\\programdata\\anaconda3\\lib\\site-packages (from cffi>=1.0->SoundFile<0.12.0,>=0.10.0->wfdb) (2.20)\n",
      "Note: you may need to restart the kernel to use updated packages.\n"
     ]
    }
   ],
   "source": [
    "pip install wfdb"
   ]
  },
  {
   "cell_type": "markdown",
   "id": "h006JeqIapZU",
   "metadata": {
    "id": "h006JeqIapZU"
   },
   "source": [
    "Ahora se importa la libreria previamente instalada y  corremos  el archivo '16265' que posee la extension 'atr' ,y  generamos una grafica que muestre la señal."
   ]
  },
  {
   "cell_type": "code",
   "execution_count": 2,
   "id": "36035ac1",
   "metadata": {
    "id": "36035ac1",
    "outputId": "22b9e233-2ff5-480f-d4a8-b7101f6d5a68"
   },
   "outputs": [
    {
     "name": "stdout",
     "output_type": "stream",
     "text": [
      "<wfdb.io.record.Record object at 0x000001DDF503F5E0>\n",
      "[[-0.165 -0.325]\n",
      " [-0.155 -0.325]\n",
      " [-0.195 -0.305]\n",
      " ...\n",
      " [-0.05  -0.095]\n",
      " [-0.05  -0.085]\n",
      " [-0.05  -0.085]]\n"
     ]
    },
    {
     "data": {
      "image/png": "[encoded data removed]",
      "text/plain": [
       "<Figure size 432x288 with 2 Axes>"
      ]
     },
     "metadata": {
      "needs_background": "light"
     },
     "output_type": "display_data"
    }
   ],
   "source": [
    "import wfdb\n",
    "import numpy as np\n",
    "pepito = wfdb.rdrecord('C:/Users/larag/PARCIALES/Clasificacion Latidos_IA/base de datos parcial final/16265')\n",
    "print(pepito)\n",
    "print(pepito.p_signal)\n",
    "signals = pepito.p_signal\n",
    "anotac = wfdb.rdann('C:/Users/larag/PARCIALES/Clasificacion Latidos_IA/base de datos parcial final/16265','atr').sample\n",
    "wfdb.plot_wfdb(pepito)"
   ]
  },
  {
   "cell_type": "markdown",
   "id": "bcRYInloatQT",
   "metadata": {
    "id": "bcRYInloatQT"
   },
   "source": [
    "Procesamos todos los archivos en busca de los que posean la extension 'atr', para mas adelante poder buscar entre estos en que momento ocurre un latido o no."
   ]
  },
  {
   "cell_type": "code",
   "execution_count": 3,
   "id": "bf96fe4b",
   "metadata": {
    "id": "bf96fe4b",
    "outputId": "6464e691-dcc7-4bf2-e06b-65eb243c608d"
   },
   "outputs": [
    {
     "name": "stdout",
     "output_type": "stream",
     "text": [
      "16265.atr\n",
      "16272.atr\n",
      "16273.atr\n",
      "16420.atr\n",
      "16483.atr\n",
      "16539.atr\n",
      "16773.atr\n",
      "16786.atr\n",
      "16795.atr\n",
      "17052.atr\n",
      "17453.atr\n",
      "18177.atr\n",
      "18184.atr\n",
      "19088.atr\n",
      "19090.atr\n",
      "19093.atr\n",
      "19140.atr\n",
      "19830.atr\n"
     ]
    }
   ],
   "source": [
    "#ATRs de la carpeta\n",
    "import os\n",
    "import os.path\n",
    "for dirpath, dirnames, filenames in os.walk(\"C:/Users/larag/PARCIALES/Clasificacion Latidos_IA/base de datos parcial final/\"):\n",
    "    #print(\"Ruta actual:\", dirpath)\n",
    "    #print(filenames)\n",
    "    atr=[]\n",
    "    for i in filenames:\n",
    "        if i.endswith('.atr'):\n",
    "            print(i)\n",
    "            atr.append(i.replace('.atr', '', 1))"
   ]
  },
  {
   "cell_type": "markdown",
   "id": "0llGJYyzaziP",
   "metadata": {
    "id": "0llGJYyzaziP"
   },
   "source": [
    "Una vez obtenidos los nombres de los archivos 'atr' procedemos a quitar la extension y mostrar cuantos archivos existen sin esta.\n",
    "\n",
    "\n"
   ]
  },
  {
   "cell_type": "code",
   "execution_count": 4,
   "id": "f4a60128",
   "metadata": {
    "id": "f4a60128",
    "outputId": "d6f3b50b-000f-4d50-8a7e-bdd6efe3b5e0"
   },
   "outputs": [
    {
     "name": "stdout",
     "output_type": "stream",
     "text": [
      "['16265', '16272', '16273', '16420', '16483', '16539', '16773', '16786', '16795', '17052', '17453', '18177', '18184', '19088', '19090', '19093', '19140', '19830']\n",
      "18\n"
     ]
    }
   ],
   "source": [
    "print(atr)\n",
    "print(len(atr))"
   ]
  },
  {
   "cell_type": "markdown",
   "id": "ivrcu-0ya3fe",
   "metadata": {
    "id": "ivrcu-0ya3fe"
   },
   "source": [
    "Estas librerias seran utilizadas con el fin de poder graficar y realizar el entrenamiento del modelo. "
   ]
  },
  {
   "cell_type": "code",
   "execution_count": 5,
   "id": "19b637b4",
   "metadata": {
    "id": "19b637b4"
   },
   "outputs": [],
   "source": [
    "import matplotlib.pyplot as plt\n",
    "from statistics import mode\n",
    "import statistics as stat\n",
    "from scipy.stats import skew\n",
    "import random\n",
    "\n",
    "dataset_fila=[]"
   ]
  },
  {
   "cell_type": "markdown",
   "id": "067682d4",
   "metadata": {
    "id": "067682d4"
   },
   "source": [
    "#ATRs - latidos - 1 - 0\n",
    "\n",
    "En este apartado se realizo una ventana deslizante con el fin de poder utilizarla en el electrocardiograma al momento de identificar si existe un latido o no, en un rango determinado por medio de los numeros 1 y 0, ademas de esto, se realizaron carracteristicas que ayuden al analisis de la clasificacion del latido.\n",
    "\n",
    "carrateristicas utilizadas: \n",
    "\n",
    "-media\n",
    "\n",
    "-kurtosis\n",
    "\n",
    "-moda\n",
    "\n",
    "-desviacion\n",
    "\n",
    "-mediana\n",
    "\n",
    "-asimetria \n",
    "\n",
    "import matplotlib.pyplot as plt\n",
    "from statistics import mode\n",
    "import statistics as stat\n",
    "from scipy.stats import skew\n",
    "\n",
    "\n",
    "for i in atr:\n",
    "    print(i)\n",
    "    txt=\"C:/Users/larag/PARCIALES/base de datos parcial final/\"+i\n",
    "    anotac = wfdb.rdann(txt,'atr').sample\n",
    "    #print(anotac)\\n\",\n",
    "    pepito=wfdb.rdrecord(txt)\n",
    "    signals = pepito.p_signal\n",
    "    signal1 = signals[:,0]\n",
    "    \n",
    "    for j in range (0, len(anotac)):\n",
    "        fila_1=[]\n",
    "        fila_0=[]\n",
    "        try:    \n",
    "            vb = signal1[anotac[j]-15 : anotac[j]+15]\n",
    "            #media - mean\n",
    "            media=float(np.mean(vb))\n",
    "            \n",
    "            #kurtosis\n",
    "            kurtosis=np.std(vb)\n",
    "\n",
    "            #moda - mode\n",
    "            moda=float(mode(vb))\n",
    "\n",
    "            #desviacion\n",
    "            desviacion=stat.pstdev(vb)\n",
    "\n",
    "            #mediana - median\n",
    "            mediana=float(np.median(vb))\n",
    "\n",
    "            #asimetria\n",
    "            asimetria=float(skew(vb))\n",
    "\n",
    "            #fila_1.append(media) #1\n",
    "            #fila_1.append(kurtosis) #2\n",
    "            #fila_1.append(moda) #3\n",
    "            #fila_1.append(desviacion) #4\n",
    "            #fila_1.append(mediana) #5\n",
    "            #fila_1.append(asimetria) #6\n",
    "            #fila_1.append(1)\n",
    "            \n",
    "            f1=[media, kurtosis, moda, desviacion, mediana, asimetria,1]\n",
    "\n",
    "            dataset_fila.append(f1)\n",
    "            #print(cont)\n",
    "\n",
    "            #vb_nl = signal1[j+20 : j+1-20] \n",
    "            vb_nl=signal1[anotac[j]+8:anotac[j+1]-8]\n",
    "\n",
    "            options = range(len(vb_nl)+1)\n",
    "            options= list(options)\n",
    "            \n",
    "            if len(vb_nl) > 60:\n",
    "                aux = True\n",
    "                while aux == True:\n",
    "                    r = random.choice(options)\n",
    "                    if r - 15 > 0 and r + 15 < len(vb_nl):\n",
    "                        aux = False\n",
    "                inicio = r - 15 \n",
    "                final = r + 15\n",
    "                vb_nl0 = vb_nl[inicio:final]\n",
    "                \n",
    "            else:\n",
    "                vb_nl0 = signal1[anotac[x]:anotac[x+1]]\n",
    "\n",
    "            #media - mean\n",
    "            media=float(np.mean(vb_nl0))\n",
    "\n",
    "            #kurtosis\n",
    "            kurtosis=np.std(vb_nl0)\n",
    "\n",
    "            #moda - mode\n",
    "            moda=float(mode(vb_nl0))\n",
    "\n",
    "            #desviacion\n",
    "            desviacion=stat.pstdev(vb_nl0)\n",
    "\n",
    "            #mediana - median\n",
    "            mediana=float(np.median(vb_nl0))\n",
    "\n",
    "            #asimetria\n",
    "            asimetria=float(skew(vb_nl0))\n",
    "\n",
    "                #fila_0.append(media) #1\n",
    "                #fila_0.append(kurtosis) #2\n",
    "                #fila_0.append(moda) #3\n",
    "                #fila_0.append(desviacion) #4\n",
    "                #fila_0.append(mediana) #5\n",
    "                #fila_0.append(asimetria) #6\n",
    "                #fila_0.append(0)\n",
    "                \n",
    "            f0=[media, kurtosis, moda, desviacion, mediana, asimetria,0]\n",
    "            dataset_fila.append(f0)\n",
    "                #print(cont)\n",
    "                \n",
    "                \n",
    "        except:\n",
    "            continue\n",
    "                \n",
    "    print(len(dataset_fila))\n",
    "print(len(dataset_fila))"
   ]
  },
  {
   "cell_type": "markdown",
   "id": "93a56297",
   "metadata": {
    "id": "93a56297"
   },
   "source": [
    "# DATASET CON 3'378.815 DATOS"
   ]
  },
  {
   "cell_type": "markdown",
   "id": "OAiJvUJbbMei",
   "metadata": {
    "id": "OAiJvUJbbMei"
   },
   "source": [
    "Importamos la libreria pandas con el fin de recorrer un archivo csv creado con la clasificacion de 1 y 0, para no tener que ejecutar todo el codigo anterior de nuevo ya que consume mucho tiempo su ejecucion."
   ]
  },
  {
   "cell_type": "code",
   "execution_count": 6,
   "id": "16d8dce7",
   "metadata": {
    "id": "16d8dce7"
   },
   "outputs": [],
   "source": [
    "import pandas as pd"
   ]
  },
  {
   "cell_type": "markdown",
   "id": "390f399b",
   "metadata": {
    "id": "390f399b"
   },
   "source": [
    "import pandas as pd\n",
    "dataframe=pd.DataFrame(dataset_fila, columns=[\"media\", \"kurtosis\", \"moda\", \"desviacion estandar\", \"mediana\", \"asimetria\", \"latido\"])"
   ]
  },
  {
   "cell_type": "markdown",
   "id": "903e7b0c",
   "metadata": {
    "id": "903e7b0c"
   },
   "source": [
    "dataframe.to_csv(r'C:/Users/larag/PARCIALES/DataFrame.csv',index=False, header=True)"
   ]
  },
  {
   "cell_type": "markdown",
   "id": "_mPVnGjGbUEq",
   "metadata": {
    "id": "_mPVnGjGbUEq"
   },
   "source": [
    "En este apartado se muestra que no existen valores nulos en las carracteristicas."
   ]
  },
  {
   "cell_type": "code",
   "execution_count": 7,
   "id": "14310e9e",
   "metadata": {
    "id": "14310e9e",
    "outputId": "508d0bd6-26af-478b-de52-44e967b5cb1b"
   },
   "outputs": [
    {
     "data": {
      "text/plain": [
       "media                  0\n",
       "kurtosis               0\n",
       "moda                   0\n",
       "desviacion estandar    0\n",
       "mediana                0\n",
       "asimetria              0\n",
       "latido                 0\n",
       "dtype: int64"
      ]
     },
     "execution_count": 7,
     "metadata": {},
     "output_type": "execute_result"
    }
   ],
   "source": [
    "dataframe2=pd.read_csv('C:/Users/larag/PARCIALES/Clasificacion Latidos_IA/DataFrame.csv')\n",
    "dataframe2.isnull().sum()"
   ]
  },
  {
   "cell_type": "markdown",
   "id": "G0ozm_V_baxd",
   "metadata": {
    "id": "G0ozm_V_baxd"
   },
   "source": [
    "Se muestra el dataframe donde se pueden observan los valores de la media, kurtosis, moda, desviacion estandar, mediana, asimetria y el latido ya clasificado donde hay 3378816 filas × 7 columnas.\n"
   ]
  },
  {
   "cell_type": "code",
   "execution_count": 8,
   "id": "89af7ddf",
   "metadata": {
    "id": "89af7ddf",
    "outputId": "5b6d1f81-7077-4619-9557-9ed63c38634a"
   },
   "outputs": [
    {
     "data": {
      "text/html": [
       "<div>\n",
       "<style scoped>\n",
       "    .dataframe tbody tr th:only-of-type {\n",
       "        vertical-align: middle;\n",
       "    }\n",
       "\n",
       "    .dataframe tbody tr th {\n",
       "        vertical-align: top;\n",
       "    }\n",
       "\n",
       "    .dataframe thead th {\n",
       "        text-align: right;\n",
       "    }\n",
       "</style>\n",
       "<table border=\"1\" class=\"dataframe\">\n",
       "  <thead>\n",
       "    <tr style=\"text-align: right;\">\n",
       "      <th></th>\n",
       "      <th>media</th>\n",
       "      <th>kurtosis</th>\n",
       "      <th>moda</th>\n",
       "      <th>desviacion estandar</th>\n",
       "      <th>mediana</th>\n",
       "      <th>asimetria</th>\n",
       "      <th>latido</th>\n",
       "    </tr>\n",
       "  </thead>\n",
       "  <tbody>\n",
       "    <tr>\n",
       "      <th>0</th>\n",
       "      <td>0.102000</td>\n",
       "      <td>0.897679</td>\n",
       "      <td>-0.155</td>\n",
       "      <td>0.897679</td>\n",
       "      <td>-0.1950</td>\n",
       "      <td>2.059661</td>\n",
       "      <td>1</td>\n",
       "    </tr>\n",
       "    <tr>\n",
       "      <th>1</th>\n",
       "      <td>-0.134000</td>\n",
       "      <td>0.029138</td>\n",
       "      <td>-0.125</td>\n",
       "      <td>0.029138</td>\n",
       "      <td>-0.1350</td>\n",
       "      <td>0.240603</td>\n",
       "      <td>0</td>\n",
       "    </tr>\n",
       "    <tr>\n",
       "      <th>2</th>\n",
       "      <td>0.124000</td>\n",
       "      <td>0.914507</td>\n",
       "      <td>-0.275</td>\n",
       "      <td>0.914507</td>\n",
       "      <td>-0.1800</td>\n",
       "      <td>2.142393</td>\n",
       "      <td>1</td>\n",
       "    </tr>\n",
       "    <tr>\n",
       "      <th>3</th>\n",
       "      <td>-0.123667</td>\n",
       "      <td>0.028605</td>\n",
       "      <td>-0.115</td>\n",
       "      <td>0.028605</td>\n",
       "      <td>-0.1150</td>\n",
       "      <td>-1.304937</td>\n",
       "      <td>0</td>\n",
       "    </tr>\n",
       "    <tr>\n",
       "      <th>4</th>\n",
       "      <td>0.134333</td>\n",
       "      <td>0.919010</td>\n",
       "      <td>-0.155</td>\n",
       "      <td>0.919010</td>\n",
       "      <td>-0.1600</td>\n",
       "      <td>2.063486</td>\n",
       "      <td>1</td>\n",
       "    </tr>\n",
       "    <tr>\n",
       "      <th>...</th>\n",
       "      <td>...</td>\n",
       "      <td>...</td>\n",
       "      <td>...</td>\n",
       "      <td>...</td>\n",
       "      <td>...</td>\n",
       "      <td>...</td>\n",
       "      <td>...</td>\n",
       "    </tr>\n",
       "    <tr>\n",
       "      <th>3378811</th>\n",
       "      <td>-0.288333</td>\n",
       "      <td>0.032489</td>\n",
       "      <td>-0.305</td>\n",
       "      <td>0.032489</td>\n",
       "      <td>-0.2950</td>\n",
       "      <td>1.792114</td>\n",
       "      <td>0</td>\n",
       "    </tr>\n",
       "    <tr>\n",
       "      <th>3378812</th>\n",
       "      <td>-0.229000</td>\n",
       "      <td>0.188337</td>\n",
       "      <td>-0.345</td>\n",
       "      <td>0.188337</td>\n",
       "      <td>-0.2850</td>\n",
       "      <td>2.522551</td>\n",
       "      <td>1</td>\n",
       "    </tr>\n",
       "    <tr>\n",
       "      <th>3378813</th>\n",
       "      <td>-0.236000</td>\n",
       "      <td>0.048121</td>\n",
       "      <td>-0.245</td>\n",
       "      <td>0.048121</td>\n",
       "      <td>-0.2450</td>\n",
       "      <td>-0.263405</td>\n",
       "      <td>0</td>\n",
       "    </tr>\n",
       "    <tr>\n",
       "      <th>3378814</th>\n",
       "      <td>-0.174667</td>\n",
       "      <td>0.193984</td>\n",
       "      <td>-0.285</td>\n",
       "      <td>0.193984</td>\n",
       "      <td>-0.2450</td>\n",
       "      <td>2.880238</td>\n",
       "      <td>1</td>\n",
       "    </tr>\n",
       "    <tr>\n",
       "      <th>3378815</th>\n",
       "      <td>-0.077167</td>\n",
       "      <td>0.148872</td>\n",
       "      <td>0.015</td>\n",
       "      <td>0.148872</td>\n",
       "      <td>0.0125</td>\n",
       "      <td>-1.960623</td>\n",
       "      <td>1</td>\n",
       "    </tr>\n",
       "  </tbody>\n",
       "</table>\n",
       "<p>3378816 rows × 7 columns</p>\n",
       "</div>"
      ],
      "text/plain": [
       "            media  kurtosis   moda  desviacion estandar  mediana  asimetria  \\\n",
       "0        0.102000  0.897679 -0.155             0.897679  -0.1950   2.059661   \n",
       "1       -0.134000  0.029138 -0.125             0.029138  -0.1350   0.240603   \n",
       "2        0.124000  0.914507 -0.275             0.914507  -0.1800   2.142393   \n",
       "3       -0.123667  0.028605 -0.115             0.028605  -0.1150  -1.304937   \n",
       "4        0.134333  0.919010 -0.155             0.919010  -0.1600   2.063486   \n",
       "...           ...       ...    ...                  ...      ...        ...   \n",
       "3378811 -0.288333  0.032489 -0.305             0.032489  -0.2950   1.792114   \n",
       "3378812 -0.229000  0.188337 -0.345             0.188337  -0.2850   2.522551   \n",
       "3378813 -0.236000  0.048121 -0.245             0.048121  -0.2450  -0.263405   \n",
       "3378814 -0.174667  0.193984 -0.285             0.193984  -0.2450   2.880238   \n",
       "3378815 -0.077167  0.148872  0.015             0.148872   0.0125  -1.960623   \n",
       "\n",
       "         latido  \n",
       "0             1  \n",
       "1             0  \n",
       "2             1  \n",
       "3             0  \n",
       "4             1  \n",
       "...         ...  \n",
       "3378811       0  \n",
       "3378812       1  \n",
       "3378813       0  \n",
       "3378814       1  \n",
       "3378815       1  \n",
       "\n",
       "[3378816 rows x 7 columns]"
      ]
     },
     "execution_count": 8,
     "metadata": {},
     "output_type": "execute_result"
    }
   ],
   "source": [
    "dataframe2"
   ]
  },
  {
   "cell_type": "markdown",
   "id": "5f7cNeUBblhE",
   "metadata": {
    "id": "5f7cNeUBblhE"
   },
   "source": [
    "Se muestra la cantidad de 0 y 1 existentes y atraves de una grafica. mostrando todos los datos obtenidos, donde existen mas valores de 1 que 0."
   ]
  },
  {
   "cell_type": "code",
   "execution_count": 9,
   "id": "322f2db3",
   "metadata": {
    "id": "322f2db3",
    "outputId": "b92bd445-9e13-43da-9023-3617dcc65cb4"
   },
   "outputs": [
    {
     "name": "stdout",
     "output_type": "stream",
     "text": [
      "1    1806781\n",
      "0    1572035\n",
      "Name: latido, dtype: int64\n",
      "\n"
     ]
    },
    {
     "name": "stderr",
     "output_type": "stream",
     "text": [
      "C:\\ProgramData\\Anaconda3\\lib\\site-packages\\seaborn\\_decorators.py:36: FutureWarning: Pass the following variable as a keyword arg: x. From version 0.12, the only valid positional argument will be `data`, and passing other arguments without an explicit keyword will result in an error or misinterpretation.\n",
      "  warnings.warn(\n"
     ]
    },
    {
     "data": {
      "text/plain": [
       "<AxesSubplot:xlabel='latido', ylabel='count'>"
      ]
     },
     "execution_count": 9,
     "metadata": {},
     "output_type": "execute_result"
    },
    {
     "data": {
      "image/png": "[encoded data removed]",
      "text/plain": [
       "<Figure size 432x288 with 1 Axes>"
      ]
     },
     "metadata": {
      "needs_background": "light"
     },
     "output_type": "display_data"
    }
   ],
   "source": [
    "import seaborn as sns\n",
    "print(dataframe2['latido'].value_counts())\n",
    "print(\"\")\n",
    "sns.countplot(dataframe2['latido'], palette='Spectral')"
   ]
  },
  {
   "cell_type": "markdown",
   "id": "72ad8971",
   "metadata": {
    "id": "72ad8971"
   },
   "source": [
    "# DATASET CON 400.000 DATOS"
   ]
  },
  {
   "cell_type": "markdown",
   "id": "STaGtOk2bqQO",
   "metadata": {
    "id": "STaGtOk2bqQO"
   },
   "source": [
    "Se muestra la cantidad de 0 y 1 existentes y atraves de una grafica. con 4000.000 datos de 3'378.815 donde se observa que existen mas valores de 1."
   ]
  },
  {
   "cell_type": "code",
   "execution_count": 10,
   "id": "c3f4ba22",
   "metadata": {
    "id": "c3f4ba22",
    "outputId": "6029998c-97bc-4a37-c3b8-36a7102a2fd6"
   },
   "outputs": [
    {
     "name": "stdout",
     "output_type": "stream",
     "text": [
      "1    211856\n",
      "0    188144\n",
      "Name: latido, dtype: int64\n",
      "\n"
     ]
    },
    {
     "name": "stderr",
     "output_type": "stream",
     "text": [
      "C:\\ProgramData\\Anaconda3\\lib\\site-packages\\seaborn\\_decorators.py:36: FutureWarning: Pass the following variable as a keyword arg: x. From version 0.12, the only valid positional argument will be `data`, and passing other arguments without an explicit keyword will result in an error or misinterpretation.\n",
      "  warnings.warn(\n"
     ]
    },
    {
     "data": {
      "text/plain": [
       "<AxesSubplot:xlabel='latido', ylabel='count'>"
      ]
     },
     "execution_count": 10,
     "metadata": {},
     "output_type": "execute_result"
    },
    {
     "data": {
      "image/png": "[encoded data removed]",
      "text/plain": [
       "<Figure size 432x288 with 1 Axes>"
      ]
     },
     "metadata": {
      "needs_background": "light"
     },
     "output_type": "display_data"
    }
   ],
   "source": [
    "dataframe3=dataframe2.head(400000)\n",
    "print(dataframe3['latido'].value_counts())\n",
    "print(\"\")\n",
    "sns.countplot(dataframe3['latido'], palette='Spectral')"
   ]
  },
  {
   "cell_type": "markdown",
   "id": "b55a01e6",
   "metadata": {
    "id": "b55a01e6"
   },
   "source": [
    "# Creación del modelo"
   ]
  },
  {
   "cell_type": "markdown",
   "id": "n_3r7g6scPM6",
   "metadata": {
    "id": "n_3r7g6scPM6"
   },
   "source": [
    "El modelo utilizado para clasificar el comportamiento fue la librearia MLPClassifier, de la mano de RandomizedSearchCV para la optimizacion de hiperparametros: hidden_layer_sizes, activation, max_iter, learning_rate_init\n"
   ]
  },
  {
   "cell_type": "code",
   "execution_count": 11,
   "id": "7334f5d2",
   "metadata": {
    "id": "7334f5d2"
   },
   "outputs": [],
   "source": [
    "from sklearn.neural_network import MLPClassifier\n",
    "from sklearn.datasets import make_classification\n",
    "from sklearn.model_selection import train_test_split\n",
    "from sklearn.model_selection import RandomizedSearchCV"
   ]
  },
  {
   "cell_type": "code",
   "execution_count": 12,
   "id": "52771724",
   "metadata": {
    "id": "52771724",
    "outputId": "ebe207a9-d991-4e92-d213-a9d498f3f248"
   },
   "outputs": [
    {
     "name": "stderr",
     "output_type": "stream",
     "text": [
      "C:\\ProgramData\\Anaconda3\\lib\\site-packages\\sklearn\\utils\\validation.py:63: DataConversionWarning: A column-vector y was passed when a 1d array was expected. Please change the shape of y to (n_samples, ), for example using ravel().\n",
      "  return f(*args, **kwargs)\n",
      "C:\\ProgramData\\Anaconda3\\lib\\site-packages\\sklearn\\utils\\validation.py:63: DataConversionWarning: A column-vector y was passed when a 1d array was expected. Please change the shape of y to (n_samples, ), for example using ravel().\n",
      "  return f(*args, **kwargs)\n",
      "C:\\ProgramData\\Anaconda3\\lib\\site-packages\\sklearn\\utils\\validation.py:63: DataConversionWarning: A column-vector y was passed when a 1d array was expected. Please change the shape of y to (n_samples, ), for example using ravel().\n",
      "  return f(*args, **kwargs)\n",
      "C:\\ProgramData\\Anaconda3\\lib\\site-packages\\sklearn\\utils\\validation.py:63: DataConversionWarning: A column-vector y was passed when a 1d array was expected. Please change the shape of y to (n_samples, ), for example using ravel().\n",
      "  return f(*args, **kwargs)\n",
      "C:\\ProgramData\\Anaconda3\\lib\\site-packages\\sklearn\\utils\\validation.py:63: DataConversionWarning: A column-vector y was passed when a 1d array was expected. Please change the shape of y to (n_samples, ), for example using ravel().\n",
      "  return f(*args, **kwargs)\n",
      "C:\\ProgramData\\Anaconda3\\lib\\site-packages\\sklearn\\utils\\validation.py:63: DataConversionWarning: A column-vector y was passed when a 1d array was expected. Please change the shape of y to (n_samples, ), for example using ravel().\n",
      "  return f(*args, **kwargs)\n",
      "C:\\ProgramData\\Anaconda3\\lib\\site-packages\\sklearn\\utils\\validation.py:63: DataConversionWarning: A column-vector y was passed when a 1d array was expected. Please change the shape of y to (n_samples, ), for example using ravel().\n",
      "  return f(*args, **kwargs)\n",
      "C:\\ProgramData\\Anaconda3\\lib\\site-packages\\sklearn\\utils\\validation.py:63: DataConversionWarning: A column-vector y was passed when a 1d array was expected. Please change the shape of y to (n_samples, ), for example using ravel().\n",
      "  return f(*args, **kwargs)\n",
      "C:\\ProgramData\\Anaconda3\\lib\\site-packages\\sklearn\\utils\\validation.py:63: DataConversionWarning: A column-vector y was passed when a 1d array was expected. Please change the shape of y to (n_samples, ), for example using ravel().\n",
      "  return f(*args, **kwargs)\n",
      "C:\\ProgramData\\Anaconda3\\lib\\site-packages\\sklearn\\utils\\validation.py:63: DataConversionWarning: A column-vector y was passed when a 1d array was expected. Please change the shape of y to (n_samples, ), for example using ravel().\n",
      "  return f(*args, **kwargs)\n",
      "C:\\ProgramData\\Anaconda3\\lib\\site-packages\\sklearn\\utils\\validation.py:63: DataConversionWarning: A column-vector y was passed when a 1d array was expected. Please change the shape of y to (n_samples, ), for example using ravel().\n",
      "  return f(*args, **kwargs)\n",
      "C:\\ProgramData\\Anaconda3\\lib\\site-packages\\sklearn\\utils\\validation.py:63: DataConversionWarning: A column-vector y was passed when a 1d array was expected. Please change the shape of y to (n_samples, ), for example using ravel().\n",
      "  return f(*args, **kwargs)\n",
      "C:\\ProgramData\\Anaconda3\\lib\\site-packages\\sklearn\\utils\\validation.py:63: DataConversionWarning: A column-vector y was passed when a 1d array was expected. Please change the shape of y to (n_samples, ), for example using ravel().\n",
      "  return f(*args, **kwargs)\n",
      "C:\\ProgramData\\Anaconda3\\lib\\site-packages\\sklearn\\utils\\validation.py:63: DataConversionWarning: A column-vector y was passed when a 1d array was expected. Please change the shape of y to (n_samples, ), for example using ravel().\n",
      "  return f(*args, **kwargs)\n",
      "C:\\ProgramData\\Anaconda3\\lib\\site-packages\\sklearn\\utils\\validation.py:63: DataConversionWarning: A column-vector y was passed when a 1d array was expected. Please change the shape of y to (n_samples, ), for example using ravel().\n",
      "  return f(*args, **kwargs)\n",
      "C:\\ProgramData\\Anaconda3\\lib\\site-packages\\sklearn\\utils\\validation.py:63: DataConversionWarning: A column-vector y was passed when a 1d array was expected. Please change the shape of y to (n_samples, ), for example using ravel().\n",
      "  return f(*args, **kwargs)\n"
     ]
    },
    {
     "data": {
      "text/plain": [
       "RandomizedSearchCV(cv=5, estimator=MLPClassifier(), n_iter=3,\n",
       "                   param_distributions={'activation': ['identity', 'logistic',\n",
       "                                                       'tanh', 'relu'],\n",
       "                                        'hidden_layer_sizes': [(100,),\n",
       "                                                               (10, 50, 10),\n",
       "                                                               (20,),\n",
       "                                                               (100, 100)],\n",
       "                                        'learning_rate_init': array([0.001, 0.002, 0.003, 0.004]),\n",
       "                                        'max_iter': array([200, 300, 400, 500, 600, 700, 800, 900])})"
      ]
     },
     "execution_count": 12,
     "metadata": {},
     "output_type": "execute_result"
    }
   ],
   "source": [
    "x=dataframe3[[ \"media\", \"kurtosis\", \"moda\", \"desviacion estandar\", \"mediana\", \"asimetria\"]]\n",
    "y=dataframe3[[ \"latido\"]]\n",
    "\n",
    "X_train, X_test, y_train, y_test = train_test_split(x, y,train_size=0.6)\n",
    "\n",
    "clf = MLPClassifier()\n",
    "parametros = {'hidden_layer_sizes': [(100,),(10,50,10),(20,),(100,100)],'activation': ['identity', 'logistic', 'tanh', 'relu'],'max_iter': np.arange(200,1000,100),'learning_rate_init': np.arange(0.001,0.005,0.001)}\n",
    "Randomized=RandomizedSearchCV(clf, parametros,cv=5,n_iter=3)\n",
    "\n",
    "Randomized.fit(X_train, y_train)\n",
    "#print(len(X_train))\n",
    "#clf = MLPClassifier(hidden_layer_sizes=(100,), activation='relu', max_iter=200, learning_rate_init=0.001).fit(X_train, y_train)\n",
    "#clf.score(X_test, y_test)"
   ]
  },
  {
   "cell_type": "markdown",
   "id": "0nf38FT1cVrs",
   "metadata": {
    "id": "0nf38FT1cVrs"
   },
   "source": [
    "a continuacion se puede ver la etapa de entrenamiento del modelo, donde se puede observar el mejor desempeño y el mejor parametro. "
   ]
  },
  {
   "cell_type": "code",
   "execution_count": 13,
   "id": "c754b28a",
   "metadata": {
    "id": "c754b28a"
   },
   "outputs": [
    {
     "name": "stdout",
     "output_type": "stream",
     "text": [
      "Mejor Desempeño:  0.9861749999999999\n",
      "Mejor Parametro:  {'max_iter': 300, 'learning_rate_init': 0.004, 'hidden_layer_sizes': (20,), 'activation': 'tanh'}\n"
     ]
    }
   ],
   "source": [
    "print(\"Mejor Desempeño: \",Randomized.best_score_)\n",
    "print(\"Mejor Parametro: \",Randomized.best_params_)"
   ]
  },
  {
   "cell_type": "markdown",
   "id": "Na2oQgOEcb4a",
   "metadata": {
    "id": "Na2oQgOEcb4a"
   },
   "source": [
    "En este apartado se puede pareciar el resultado de la prueba del modelo con un conjunto de datos."
   ]
  },
  {
   "cell_type": "code",
   "execution_count": 14,
   "id": "5dab8868",
   "metadata": {
    "id": "5dab8868"
   },
   "outputs": [
    {
     "data": {
      "text/plain": [
       "0.9865938047578034"
      ]
     },
     "execution_count": 14,
     "metadata": {},
     "output_type": "execute_result"
    }
   ],
   "source": [
    "from sklearn.metrics import f1_score\n",
    "pred_y = Randomized.predict(X_test)\n",
    "f1_score(y_test, pred_y)"
   ]
  },
  {
   "cell_type": "markdown",
   "id": "eN9TX9wfcjpC",
   "metadata": {
    "id": "eN9TX9wfcjpC"
   },
   "source": [
    "se decidio hacer una matriz de confusion ya que esta nos permite visualizar el desempeño mostrandonos los aciertos y errores que tiene el modelo por medio de las clases:  \n",
    "\n",
    "- verdaderos positivos: se logran observar 74173\n",
    "\n",
    "- Falsos positivos: se logran observar 887\n",
    "\n",
    "- Falsos negativos: se logran observar 1361\n",
    "\n",
    "- verdaderos negativos:se logran observar 83579"
   ]
  },
  {
   "cell_type": "code",
   "execution_count": 15,
   "id": "6d9533ac",
   "metadata": {
    "id": "6d9533ac"
   },
   "outputs": [
    {
     "data": {
      "image/png": "[encoded data removed]",
      "text/plain": [
       "<Figure size 864x864 with 2 Axes>"
      ]
     },
     "metadata": {
      "needs_background": "light"
     },
     "output_type": "display_data"
    },
    {
     "name": "stdout",
     "output_type": "stream",
     "text": [
      "              precision    recall  f1-score   support\n",
      "\n",
      "           0       0.98      0.99      0.99     75389\n",
      "           1       0.99      0.98      0.99     84611\n",
      "\n",
      "    accuracy                           0.99    160000\n",
      "   macro avg       0.99      0.99      0.99    160000\n",
      "weighted avg       0.99      0.99      0.99    160000\n",
      "\n"
     ]
    }
   ],
   "source": [
    "from sklearn.metrics import confusion_matrix\n",
    "from sklearn.metrics import classification_report\n",
    "conf_matrix = confusion_matrix(y_test, pred_y)\n",
    "plt.figure(figsize=(12, 12))\n",
    "sns.heatmap(conf_matrix, annot=True, fmt=\"d\",cmap=\"crest\");\n",
    "plt.title(\"Confusion matrix\")\n",
    "plt.ylabel('True class')\n",
    "plt.xlabel('Predicted class')\n",
    "plt.show()\n",
    "print (classification_report(y_test, pred_y))"
   ]
  },
  {
   "cell_type": "markdown",
   "id": "98b7e1b8",
   "metadata": {
    "id": "98b7e1b8"
   },
   "source": [
    "# PRUEBA DEL MODELO EN UNA SEÑAL"
   ]
  },
  {
   "cell_type": "markdown",
   "id": "2lo6-_nMcwG8",
   "metadata": {
    "id": "2lo6-_nMcwG8"
   },
   "source": [
    "seleccionamos la señal '16795' para probar el modelo y esta señal cuenta con 87678 datos."
   ]
  },
  {
   "cell_type": "code",
   "execution_count": 16,
   "id": "e9acd389",
   "metadata": {
    "id": "e9acd389"
   },
   "outputs": [
    {
     "data": {
      "image/png": "[encoded data removed]",
      "text/plain": [
       "<Figure size 432x288 with 2 Axes>"
      ]
     },
     "metadata": {
      "needs_background": "light"
     },
     "output_type": "display_data"
    },
    {
     "name": "stdout",
     "output_type": "stream",
     "text": [
      "87678\n"
     ]
    }
   ],
   "source": [
    "pepito = wfdb.rdrecord('C:/Users/larag/PARCIALES/Clasificacion Latidos_IA/base de datos parcial final/16795')\n",
    "signals = pepito.p_signal\n",
    "signal1 = signals[:,0]\n",
    "wfdb.plot_wfdb(pepito)\n",
    "\n",
    "anotac = wfdb.rdann('C:/Users/larag/PARCIALES/Clasificacion Latidos_IA/base de datos parcial final/16795','atr').sample\n",
    "\n",
    "print(len(anotac))"
   ]
  },
  {
   "cell_type": "markdown",
   "id": "IQylTkm_dO4r",
   "metadata": {
    "id": "IQylTkm_dO4r"
   },
   "source": [
    "En esta parte se realiza el dataset de la señal escogida con las 6 caracteristicas seleccionadas previamente, con una ventana de observacion de 20 y el fragmento escogido de la señal signal1[:800], por ende tenemos un total de 40 ventanas que se le pasaran al modelo."
   ]
  },
  {
   "cell_type": "code",
   "execution_count": 17,
   "id": "1005cb00",
   "metadata": {
    "id": "1005cb00"
   },
   "outputs": [
    {
     "data": {
      "text/html": [
       "<div>\n",
       "<style scoped>\n",
       "    .dataframe tbody tr th:only-of-type {\n",
       "        vertical-align: middle;\n",
       "    }\n",
       "\n",
       "    .dataframe tbody tr th {\n",
       "        vertical-align: top;\n",
       "    }\n",
       "\n",
       "    .dataframe thead th {\n",
       "        text-align: right;\n",
       "    }\n",
       "</style>\n",
       "<table border=\"1\" class=\"dataframe\">\n",
       "  <thead>\n",
       "    <tr style=\"text-align: right;\">\n",
       "      <th></th>\n",
       "      <th>media</th>\n",
       "      <th>kurtosis</th>\n",
       "      <th>moda</th>\n",
       "      <th>desviacion estandar</th>\n",
       "      <th>mediana</th>\n",
       "      <th>asimetria</th>\n",
       "    </tr>\n",
       "  </thead>\n",
       "  <tbody>\n",
       "    <tr>\n",
       "      <th>0</th>\n",
       "      <td>-0.0235</td>\n",
       "      <td>0.423866</td>\n",
       "      <td>0.125</td>\n",
       "      <td>0.423866</td>\n",
       "      <td>0.005</td>\n",
       "      <td>-0.383025</td>\n",
       "    </tr>\n",
       "    <tr>\n",
       "      <th>1</th>\n",
       "      <td>0.1070</td>\n",
       "      <td>0.081462</td>\n",
       "      <td>0.045</td>\n",
       "      <td>0.081462</td>\n",
       "      <td>0.105</td>\n",
       "      <td>0.782449</td>\n",
       "    </tr>\n",
       "    <tr>\n",
       "      <th>2</th>\n",
       "      <td>0.2735</td>\n",
       "      <td>0.199782</td>\n",
       "      <td>0.415</td>\n",
       "      <td>0.199782</td>\n",
       "      <td>0.315</td>\n",
       "      <td>-0.485367</td>\n",
       "    </tr>\n",
       "    <tr>\n",
       "      <th>3</th>\n",
       "      <td>-0.0785</td>\n",
       "      <td>0.021042</td>\n",
       "      <td>-0.085</td>\n",
       "      <td>0.021042</td>\n",
       "      <td>-0.080</td>\n",
       "      <td>-0.371209</td>\n",
       "    </tr>\n",
       "    <tr>\n",
       "      <th>4</th>\n",
       "      <td>-0.0825</td>\n",
       "      <td>0.022776</td>\n",
       "      <td>-0.105</td>\n",
       "      <td>0.022776</td>\n",
       "      <td>-0.085</td>\n",
       "      <td>0.503064</td>\n",
       "    </tr>\n",
       "    <tr>\n",
       "      <th>5</th>\n",
       "      <td>-0.0320</td>\n",
       "      <td>0.100950</td>\n",
       "      <td>-0.045</td>\n",
       "      <td>0.100950</td>\n",
       "      <td>-0.045</td>\n",
       "      <td>1.472953</td>\n",
       "    </tr>\n",
       "    <tr>\n",
       "      <th>6</th>\n",
       "      <td>-0.1105</td>\n",
       "      <td>0.431259</td>\n",
       "      <td>-0.035</td>\n",
       "      <td>0.431259</td>\n",
       "      <td>-0.040</td>\n",
       "      <td>-0.232931</td>\n",
       "    </tr>\n",
       "    <tr>\n",
       "      <th>7</th>\n",
       "      <td>0.2405</td>\n",
       "      <td>0.135590</td>\n",
       "      <td>0.155</td>\n",
       "      <td>0.135590</td>\n",
       "      <td>0.230</td>\n",
       "      <td>-0.070268</td>\n",
       "    </tr>\n",
       "    <tr>\n",
       "      <th>8</th>\n",
       "      <td>-0.1855</td>\n",
       "      <td>0.077037</td>\n",
       "      <td>-0.155</td>\n",
       "      <td>0.077037</td>\n",
       "      <td>-0.215</td>\n",
       "      <td>1.192597</td>\n",
       "    </tr>\n",
       "    <tr>\n",
       "      <th>9</th>\n",
       "      <td>-0.2220</td>\n",
       "      <td>0.031953</td>\n",
       "      <td>-0.225</td>\n",
       "      <td>0.031953</td>\n",
       "      <td>-0.225</td>\n",
       "      <td>0.949727</td>\n",
       "    </tr>\n",
       "    <tr>\n",
       "      <th>10</th>\n",
       "      <td>-0.1680</td>\n",
       "      <td>0.070505</td>\n",
       "      <td>-0.205</td>\n",
       "      <td>0.070505</td>\n",
       "      <td>-0.190</td>\n",
       "      <td>0.475248</td>\n",
       "    </tr>\n",
       "    <tr>\n",
       "      <th>11</th>\n",
       "      <td>-0.2340</td>\n",
       "      <td>0.468272</td>\n",
       "      <td>-0.235</td>\n",
       "      <td>0.468272</td>\n",
       "      <td>-0.230</td>\n",
       "      <td>-0.254701</td>\n",
       "    </tr>\n",
       "    <tr>\n",
       "      <th>12</th>\n",
       "      <td>-0.0880</td>\n",
       "      <td>0.091165</td>\n",
       "      <td>-0.105</td>\n",
       "      <td>0.091165</td>\n",
       "      <td>-0.100</td>\n",
       "      <td>0.456302</td>\n",
       "    </tr>\n",
       "    <tr>\n",
       "      <th>13</th>\n",
       "      <td>0.0565</td>\n",
       "      <td>0.227602</td>\n",
       "      <td>0.305</td>\n",
       "      <td>0.227602</td>\n",
       "      <td>0.125</td>\n",
       "      <td>-0.160314</td>\n",
       "    </tr>\n",
       "    <tr>\n",
       "      <th>14</th>\n",
       "      <td>-0.2420</td>\n",
       "      <td>0.032109</td>\n",
       "      <td>-0.235</td>\n",
       "      <td>0.032109</td>\n",
       "      <td>-0.235</td>\n",
       "      <td>0.389493</td>\n",
       "    </tr>\n",
       "    <tr>\n",
       "      <th>15</th>\n",
       "      <td>-0.2130</td>\n",
       "      <td>0.022271</td>\n",
       "      <td>-0.215</td>\n",
       "      <td>0.022271</td>\n",
       "      <td>-0.215</td>\n",
       "      <td>0.454083</td>\n",
       "    </tr>\n",
       "    <tr>\n",
       "      <th>16</th>\n",
       "      <td>-0.1655</td>\n",
       "      <td>0.069172</td>\n",
       "      <td>-0.195</td>\n",
       "      <td>0.069172</td>\n",
       "      <td>-0.175</td>\n",
       "      <td>0.123961</td>\n",
       "    </tr>\n",
       "    <tr>\n",
       "      <th>17</th>\n",
       "      <td>-0.2220</td>\n",
       "      <td>0.431128</td>\n",
       "      <td>-0.175</td>\n",
       "      <td>0.431128</td>\n",
       "      <td>-0.190</td>\n",
       "      <td>-0.389517</td>\n",
       "    </tr>\n",
       "    <tr>\n",
       "      <th>18</th>\n",
       "      <td>0.0785</td>\n",
       "      <td>0.145165</td>\n",
       "      <td>-0.085</td>\n",
       "      <td>0.145165</td>\n",
       "      <td>0.040</td>\n",
       "      <td>0.525216</td>\n",
       "    </tr>\n",
       "    <tr>\n",
       "      <th>19</th>\n",
       "      <td>-0.0460</td>\n",
       "      <td>0.219543</td>\n",
       "      <td>-0.195</td>\n",
       "      <td>0.219543</td>\n",
       "      <td>-0.170</td>\n",
       "      <td>0.885355</td>\n",
       "    </tr>\n",
       "    <tr>\n",
       "      <th>20</th>\n",
       "      <td>-0.1860</td>\n",
       "      <td>0.021424</td>\n",
       "      <td>-0.175</td>\n",
       "      <td>0.021424</td>\n",
       "      <td>-0.180</td>\n",
       "      <td>-0.114097</td>\n",
       "    </tr>\n",
       "    <tr>\n",
       "      <th>21</th>\n",
       "      <td>-0.1805</td>\n",
       "      <td>0.029745</td>\n",
       "      <td>-0.175</td>\n",
       "      <td>0.029745</td>\n",
       "      <td>-0.180</td>\n",
       "      <td>-0.121035</td>\n",
       "    </tr>\n",
       "    <tr>\n",
       "      <th>22</th>\n",
       "      <td>-0.1265</td>\n",
       "      <td>0.065900</td>\n",
       "      <td>-0.155</td>\n",
       "      <td>0.065900</td>\n",
       "      <td>-0.150</td>\n",
       "      <td>0.579330</td>\n",
       "    </tr>\n",
       "    <tr>\n",
       "      <th>23</th>\n",
       "      <td>-0.1825</td>\n",
       "      <td>0.462665</td>\n",
       "      <td>-0.125</td>\n",
       "      <td>0.462665</td>\n",
       "      <td>-0.145</td>\n",
       "      <td>-0.294536</td>\n",
       "    </tr>\n",
       "    <tr>\n",
       "      <th>24</th>\n",
       "      <td>0.0285</td>\n",
       "      <td>0.111413</td>\n",
       "      <td>-0.085</td>\n",
       "      <td>0.111413</td>\n",
       "      <td>0.010</td>\n",
       "      <td>0.338753</td>\n",
       "    </tr>\n",
       "    <tr>\n",
       "      <th>25</th>\n",
       "      <td>0.0705</td>\n",
       "      <td>0.244448</td>\n",
       "      <td>0.275</td>\n",
       "      <td>0.244448</td>\n",
       "      <td>0.050</td>\n",
       "      <td>0.092951</td>\n",
       "    </tr>\n",
       "    <tr>\n",
       "      <th>26</th>\n",
       "      <td>-0.1805</td>\n",
       "      <td>0.038791</td>\n",
       "      <td>-0.145</td>\n",
       "      <td>0.038791</td>\n",
       "      <td>-0.185</td>\n",
       "      <td>-0.033497</td>\n",
       "    </tr>\n",
       "    <tr>\n",
       "      <th>27</th>\n",
       "      <td>-0.1350</td>\n",
       "      <td>0.035917</td>\n",
       "      <td>-0.155</td>\n",
       "      <td>0.035917</td>\n",
       "      <td>-0.140</td>\n",
       "      <td>-0.427347</td>\n",
       "    </tr>\n",
       "    <tr>\n",
       "      <th>28</th>\n",
       "      <td>-0.0690</td>\n",
       "      <td>0.068000</td>\n",
       "      <td>-0.015</td>\n",
       "      <td>0.068000</td>\n",
       "      <td>-0.090</td>\n",
       "      <td>0.517924</td>\n",
       "    </tr>\n",
       "    <tr>\n",
       "      <th>29</th>\n",
       "      <td>-0.1140</td>\n",
       "      <td>0.421366</td>\n",
       "      <td>-0.135</td>\n",
       "      <td>0.421366</td>\n",
       "      <td>-0.120</td>\n",
       "      <td>-0.167330</td>\n",
       "    </tr>\n",
       "    <tr>\n",
       "      <th>30</th>\n",
       "      <td>0.0820</td>\n",
       "      <td>0.102523</td>\n",
       "      <td>0.055</td>\n",
       "      <td>0.102523</td>\n",
       "      <td>0.055</td>\n",
       "      <td>0.320545</td>\n",
       "    </tr>\n",
       "    <tr>\n",
       "      <th>31</th>\n",
       "      <td>0.1610</td>\n",
       "      <td>0.242640</td>\n",
       "      <td>0.435</td>\n",
       "      <td>0.242640</td>\n",
       "      <td>0.175</td>\n",
       "      <td>-0.084406</td>\n",
       "    </tr>\n",
       "    <tr>\n",
       "      <th>32</th>\n",
       "      <td>-0.1495</td>\n",
       "      <td>0.030737</td>\n",
       "      <td>-0.165</td>\n",
       "      <td>0.030737</td>\n",
       "      <td>-0.150</td>\n",
       "      <td>-0.378970</td>\n",
       "    </tr>\n",
       "    <tr>\n",
       "      <th>33</th>\n",
       "      <td>-0.1580</td>\n",
       "      <td>0.033779</td>\n",
       "      <td>-0.175</td>\n",
       "      <td>0.033779</td>\n",
       "      <td>-0.165</td>\n",
       "      <td>1.699364</td>\n",
       "    </tr>\n",
       "    <tr>\n",
       "      <th>34</th>\n",
       "      <td>-0.1130</td>\n",
       "      <td>0.060216</td>\n",
       "      <td>-0.145</td>\n",
       "      <td>0.060216</td>\n",
       "      <td>-0.130</td>\n",
       "      <td>0.663796</td>\n",
       "    </tr>\n",
       "    <tr>\n",
       "      <th>35</th>\n",
       "      <td>-0.1880</td>\n",
       "      <td>0.489307</td>\n",
       "      <td>-0.185</td>\n",
       "      <td>0.489307</td>\n",
       "      <td>-0.170</td>\n",
       "      <td>-0.237644</td>\n",
       "    </tr>\n",
       "    <tr>\n",
       "      <th>36</th>\n",
       "      <td>0.0355</td>\n",
       "      <td>0.123510</td>\n",
       "      <td>-0.105</td>\n",
       "      <td>0.123510</td>\n",
       "      <td>0.000</td>\n",
       "      <td>0.628447</td>\n",
       "    </tr>\n",
       "    <tr>\n",
       "      <th>37</th>\n",
       "      <td>-0.0255</td>\n",
       "      <td>0.262707</td>\n",
       "      <td>0.325</td>\n",
       "      <td>0.262707</td>\n",
       "      <td>-0.130</td>\n",
       "      <td>0.340180</td>\n",
       "    </tr>\n",
       "    <tr>\n",
       "      <th>38</th>\n",
       "      <td>-0.2680</td>\n",
       "      <td>0.036069</td>\n",
       "      <td>-0.265</td>\n",
       "      <td>0.036069</td>\n",
       "      <td>-0.265</td>\n",
       "      <td>-0.804752</td>\n",
       "    </tr>\n",
       "    <tr>\n",
       "      <th>39</th>\n",
       "      <td>-0.2455</td>\n",
       "      <td>0.038402</td>\n",
       "      <td>-0.265</td>\n",
       "      <td>0.038402</td>\n",
       "      <td>-0.240</td>\n",
       "      <td>-0.290245</td>\n",
       "    </tr>\n",
       "  </tbody>\n",
       "</table>\n",
       "</div>"
      ],
      "text/plain": [
       "     media  kurtosis   moda  desviacion estandar  mediana  asimetria\n",
       "0  -0.0235  0.423866  0.125             0.423866    0.005  -0.383025\n",
       "1   0.1070  0.081462  0.045             0.081462    0.105   0.782449\n",
       "2   0.2735  0.199782  0.415             0.199782    0.315  -0.485367\n",
       "3  -0.0785  0.021042 -0.085             0.021042   -0.080  -0.371209\n",
       "4  -0.0825  0.022776 -0.105             0.022776   -0.085   0.503064\n",
       "5  -0.0320  0.100950 -0.045             0.100950   -0.045   1.472953\n",
       "6  -0.1105  0.431259 -0.035             0.431259   -0.040  -0.232931\n",
       "7   0.2405  0.135590  0.155             0.135590    0.230  -0.070268\n",
       "8  -0.1855  0.077037 -0.155             0.077037   -0.215   1.192597\n",
       "9  -0.2220  0.031953 -0.225             0.031953   -0.225   0.949727\n",
       "10 -0.1680  0.070505 -0.205             0.070505   -0.190   0.475248\n",
       "11 -0.2340  0.468272 -0.235             0.468272   -0.230  -0.254701\n",
       "12 -0.0880  0.091165 -0.105             0.091165   -0.100   0.456302\n",
       "13  0.0565  0.227602  0.305             0.227602    0.125  -0.160314\n",
       "14 -0.2420  0.032109 -0.235             0.032109   -0.235   0.389493\n",
       "15 -0.2130  0.022271 -0.215             0.022271   -0.215   0.454083\n",
       "16 -0.1655  0.069172 -0.195             0.069172   -0.175   0.123961\n",
       "17 -0.2220  0.431128 -0.175             0.431128   -0.190  -0.389517\n",
       "18  0.0785  0.145165 -0.085             0.145165    0.040   0.525216\n",
       "19 -0.0460  0.219543 -0.195             0.219543   -0.170   0.885355\n",
       "20 -0.1860  0.021424 -0.175             0.021424   -0.180  -0.114097\n",
       "21 -0.1805  0.029745 -0.175             0.029745   -0.180  -0.121035\n",
       "22 -0.1265  0.065900 -0.155             0.065900   -0.150   0.579330\n",
       "23 -0.1825  0.462665 -0.125             0.462665   -0.145  -0.294536\n",
       "24  0.0285  0.111413 -0.085             0.111413    0.010   0.338753\n",
       "25  0.0705  0.244448  0.275             0.244448    0.050   0.092951\n",
       "26 -0.1805  0.038791 -0.145             0.038791   -0.185  -0.033497\n",
       "27 -0.1350  0.035917 -0.155             0.035917   -0.140  -0.427347\n",
       "28 -0.0690  0.068000 -0.015             0.068000   -0.090   0.517924\n",
       "29 -0.1140  0.421366 -0.135             0.421366   -0.120  -0.167330\n",
       "30  0.0820  0.102523  0.055             0.102523    0.055   0.320545\n",
       "31  0.1610  0.242640  0.435             0.242640    0.175  -0.084406\n",
       "32 -0.1495  0.030737 -0.165             0.030737   -0.150  -0.378970\n",
       "33 -0.1580  0.033779 -0.175             0.033779   -0.165   1.699364\n",
       "34 -0.1130  0.060216 -0.145             0.060216   -0.130   0.663796\n",
       "35 -0.1880  0.489307 -0.185             0.489307   -0.170  -0.237644\n",
       "36  0.0355  0.123510 -0.105             0.123510    0.000   0.628447\n",
       "37 -0.0255  0.262707  0.325             0.262707   -0.130   0.340180\n",
       "38 -0.2680  0.036069 -0.265             0.036069   -0.265  -0.804752\n",
       "39 -0.2455  0.038402 -0.265             0.038402   -0.240  -0.290245"
      ]
     },
     "execution_count": 17,
     "metadata": {},
     "output_type": "execute_result"
    }
   ],
   "source": [
    "import statistics as stat\n",
    "\n",
    "end = 20 \n",
    "aux = end\n",
    "dataset_p=[]\n",
    "start = 0\n",
    "\n",
    "     \n",
    "for x in range(0,40):\n",
    "    \n",
    "    vb_p = signal1[start:end]\n",
    "  \n",
    "    #media - mean\n",
    "    media=float(np.mean(vb_p))\n",
    "\n",
    "    #kurtosis\n",
    "    kurtosis=np.std(vb_p)\n",
    "\n",
    "    #moda - mode\n",
    "    moda=float(stat.mode(vb_p))\n",
    "\n",
    "    #desviacion\n",
    "    desviacion=stat.pstdev(vb_p)\n",
    "\n",
    "    #mediana - median\n",
    "    mediana=float(np.median(vb_p))\n",
    "\n",
    "    #asimetria\n",
    "    asimetria=float(skew(vb_p))\n",
    "    \n",
    "    caract = [media,kurtosis,moda,desviacion,mediana,asimetria]\n",
    "    dataset_p.append(caract)\n",
    "    start = end\n",
    "    end = end + aux\n",
    "\n",
    "\n",
    "columns1=[\"media\", \"kurtosis\", \"moda\", \"desviacion estandar\", \"mediana\", \"asimetria\"]\n",
    "lista = dataset_p\n",
    "df_p = pd.DataFrame(lista, columns = columns1)\n",
    "df_p"
   ]
  },
  {
   "cell_type": "markdown",
   "id": "vJFMkDryetmd",
   "metadata": {
    "id": "vJFMkDryetmd"
   },
   "source": [
    "Los datos anteriores del dataset se van a pasar al modelo para que se haga la calsificacion y se muestre el resultado, para asi poder comparar la grafica de la prediccion con la de la señal. \n",
    "\n"
   ]
  },
  {
   "cell_type": "code",
   "execution_count": 18,
   "id": "6f24c941",
   "metadata": {
    "id": "6f24c941"
   },
   "outputs": [
    {
     "data": {
      "text/plain": [
       "[<matplotlib.lines.Line2D at 0x1dd8b5cc130>]"
      ]
     },
     "execution_count": 18,
     "metadata": {},
     "output_type": "execute_result"
    },
    {
     "data": {
      "image/png": "[encoded data removed]",
      "text/plain": [
       "<Figure size 432x288 with 1 Axes>"
      ]
     },
     "metadata": {
      "needs_background": "light"
     },
     "output_type": "display_data"
    }
   ],
   "source": [
    "X_test_sp = df_p[[\"media\", \"kurtosis\", \"moda\", \"desviacion estandar\", \"mediana\", \"asimetria\"]]\n",
    "predict = Randomized.predict(X_test_sp)\n",
    "df_p['predicción'] = predict\n",
    "plt.plot(predict)"
   ]
  },
  {
   "cell_type": "code",
   "execution_count": 19,
   "id": "12d5fbb5",
   "metadata": {
    "id": "12d5fbb5"
   },
   "outputs": [
    {
     "data": {
      "text/plain": [
       "[<matplotlib.lines.Line2D at 0x1dd838b26d0>]"
      ]
     },
     "execution_count": 19,
     "metadata": {},
     "output_type": "execute_result"
    },
    {
     "data": {
      "image/png": "[encoded data removed]",
      "text/plain": [
       "<Figure size 432x288 with 1 Axes>"
      ]
     },
     "metadata": {
      "needs_background": "light"
     },
     "output_type": "display_data"
    }
   ],
   "source": [
    "plt.plot(signal1[:800])"
   ]
  },
  {
   "cell_type": "code",
   "execution_count": 20,
   "id": "ab4ed011",
   "metadata": {
    "id": "ab4ed011"
   },
   "outputs": [
    {
     "name": "stdout",
     "output_type": "stream",
     "text": [
      "0    33\n",
      "1     7\n",
      "Name: predicción, dtype: int64\n"
     ]
    },
    {
     "name": "stderr",
     "output_type": "stream",
     "text": [
      "C:\\ProgramData\\Anaconda3\\lib\\site-packages\\seaborn\\_decorators.py:36: FutureWarning: Pass the following variable as a keyword arg: x. From version 0.12, the only valid positional argument will be `data`, and passing other arguments without an explicit keyword will result in an error or misinterpretation.\n",
      "  warnings.warn(\n"
     ]
    },
    {
     "data": {
      "text/plain": [
       "<AxesSubplot:xlabel='predicción', ylabel='count'>"
      ]
     },
     "execution_count": 20,
     "metadata": {},
     "output_type": "execute_result"
    },
    {
     "data": {
      "image/png": "[encoded data removed]",
      "text/plain": [
       "<Figure size 432x288 with 1 Axes>"
      ]
     },
     "metadata": {
      "needs_background": "light"
     },
     "output_type": "display_data"
    }
   ],
   "source": [
    "print(df_p['predicción'].value_counts())\n",
    "sns.countplot(df_p['predicción'], palette='Spectral')"
   ]
  },
  {
   "cell_type": "markdown",
   "id": "BA86Abhvfs3G",
   "metadata": {
    "id": "BA86Abhvfs3G"
   },
   "source": [
    "# Conclusiones"
   ]
  },
  {
   "cell_type": "markdown",
   "id": "BnureoyAf958",
   "metadata": {
    "id": "BnureoyAf958"
   },
   "source": [
    "se puede observar que fueron detectados correctamente 7 latidos, los cuales corresponden al fragmento que se encuentra en nuestra señal, ademas de esto al momento de comparar las graficas se observa un comportamiento similar. \n",
    "\n",
    "**¿Qué problemas puedes observar usando únicamente la gráfica? y ¿Por qué se puede deber eso?**\n",
    "\n",
    "Es muy dificil poder determinar que tan precisa es la prediccion del modelo, esto se debe a que las señales son diferentes unas de otras(los latidos no siempre son \"continuos\", algunos latidos tienden a ser clasificados como no latidos).\n",
    "\n",
    "\n",
    "\n",
    "**Mencione una estrategia que puedas utilizar o implementar para mejorarlo.**\n",
    "\n",
    "Una de las formas que podrian mejorar la presicion del modelo establecido es realizar la eliminacion de datos atipicos, ya que estos pueden generar incongruencias al momento de entrenar el modelo. \n",
    "\n",
    "\n"
   ]
  }
 ],
 "metadata": {
  "colab": {
   "provenance": []
  },
  "kernelspec": {
   "display_name": "Python 3 (ipykernel)",
   "language": "python",
   "name": "python3"
  },
  "language_info": {
   "codemirror_mode": {
    "name": "ipython",
    "version": 3
   },
   "file_extension": ".py",
   "mimetype": "text/x-python",
   "name": "python",
   "nbconvert_exporter": "python",
   "pygments_lexer": "ipython3",
   "version": "3.9.7"
  }
 },
 "nbformat": 4,
 "nbformat_minor": 5
}
